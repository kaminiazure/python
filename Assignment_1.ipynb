{
 "cells": [
  {
   "cell_type": "code",
   "execution_count": null,
   "metadata": {},
   "outputs": [],
   "source": [
    "#finding numbers divisible by 7 & not multiple of 5\n",
    "l = []\n",
    "for x in range(2000,3200):\n",
    "        if (int(x)%7)==0 and (int(x)%5)!=0:\n",
    "             l.append(int(x))\n",
    "print(l)"
   ]
  },
  {
   "cell_type": "code",
   "execution_count": null,
   "metadata": {},
   "outputs": [],
   "source": [
    "# input first name and last name and print them in reverse order\n",
    "firstname = input('enter your first name--->')\n",
    "lastname = input('enter your last name---->')\n",
    "print(lastname+' '+firstname)"
   ]
  },
  {
   "cell_type": "code",
   "execution_count": null,
   "metadata": {},
   "outputs": [],
   "source": [
    "#volume of sphere\n",
    "π = 3.14\n",
    "radius = (12/2)\n",
    "Volume = (4/3)*(π)*(radius)*(radius)*(radius)\n",
    "\n",
    "print(Volume)"
   ]
  },
  {
   "cell_type": "code",
   "execution_count": null,
   "metadata": {},
   "outputs": [],
   "source": []
  },
  {
   "cell_type": "code",
   "execution_count": null,
   "metadata": {},
   "outputs": [],
   "source": [
    "#comma seperated numbers from console and generate a list\n",
    "a=input()\n",
    "l=a.split(\",\")\n",
    "print (l)"
   ]
  },
  {
   "cell_type": "code",
   "execution_count": null,
   "metadata": {},
   "outputs": [],
   "source": [
    "#pattern example\n",
    "n=5;\n",
    "for a in range(n):\n",
    "    for b in range(a):\n",
    "        print ('* ', end=\"\")\n",
    "    print('')\n",
    "\n",
    "for a in range(n,0,-1):\n",
    "    for b in range(a):\n",
    "        print('* ', end=\"\")\n",
    "    print('')"
   ]
  },
  {
   "cell_type": "code",
   "execution_count": null,
   "metadata": {},
   "outputs": [],
   "source": [
    "#enter a word and reverse it\n",
    "s = input(\"Enter a string: \")\n",
    "s[::-1]"
   ]
  },
  {
   "cell_type": "code",
   "execution_count": null,
   "metadata": {},
   "outputs": [],
   "source": []
  },
  {
   "cell_type": "code",
   "execution_count": null,
   "metadata": {},
   "outputs": [],
   "source": []
  }
 ],
 "metadata": {
  "kernelspec": {
   "display_name": "Python 3",
   "language": "python",
   "name": "python3"
  },
  "language_info": {
   "codemirror_mode": {
    "name": "ipython",
    "version": 3
   },
   "file_extension": ".py",
   "mimetype": "text/x-python",
   "name": "python",
   "nbconvert_exporter": "python",
   "pygments_lexer": "ipython3",
   "version": "3.7.6"
  }
 },
 "nbformat": 4,
 "nbformat_minor": 4
}
